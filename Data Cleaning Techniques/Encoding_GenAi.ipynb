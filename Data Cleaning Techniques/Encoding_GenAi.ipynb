{
  "nbformat": 4,
  "nbformat_minor": 0,
  "metadata": {
    "colab": {
      "provenance": []
    },
    "kernelspec": {
      "name": "python3",
      "display_name": "Python 3"
    },
    "language_info": {
      "name": "python"
    }
  },
  "cells": [
    {
      "cell_type": "markdown",
      "source": [
        "\n",
        "#### 🔡 Text Encoding - The First Language AI Learns\n",
        "##### Before a machine can think, answer, or create it must first understand.\n",
        "##### And to understand text, we must speak the language computers(numbers).\n",
        "##### That’s what Text Encoding is all about transforming words, phrases, or entire documents into numerical representations that machine learning models can process."
      ],
      "metadata": {
        "id": "Jv6Qao1a-uF3"
      }
    },
    {
      "cell_type": "markdown",
      "source": [
        "Before any model can learn from text, we need to convert words into numbers. That’s where text encoding begins but not from a single sentence.\n",
        "\n",
        "It starts from the corpusa large collection of text, such as:\n",
        "\n",
        "Product reviews | Chat logs | Support tickets | Articles, etc.\n",
        "\n",
        "Let’s break it down: Corpus ➝ Documents ➝ Sentences ➝ Words ➝ Tokens ➝ Vocabulary\n",
        "\n",
        "- Corpus: Entire dataset (e.g., thousands of reviews)\n",
        "- Document: Each review (collection of sentences)\n",
        "- Sentence: Basic unit of text\n",
        "- Words: Words in each sentence\n",
        "- Tokens: Standardized words (after lowercasing, removing punctuation, etc.)\n",
        "- Vocabulary: Set of unique tokens across the entire corpus\n"
      ],
      "metadata": {
        "id": "w9KpPRooSQeA"
      }
    },
    {
      "cell_type": "markdown",
      "source": [
        "\n",
        "### 1. One-Hot Encoding (OHE) Foundation of Text Vectorization\n",
        "One-Hot Encoding creates a binary vector for each word in the vocabulary. Each position in the vector represents one unique word in the vocabulary.\n",
        "If a word exists in the sentence, the corresponding position is marked 1 and all others are 0. Think of it as a dictionary index where each word is assigned a position, and only the active word gets “highlighted.”"
      ],
      "metadata": {
        "id": "78TV3az6AFSO"
      }
    },
    {
      "cell_type": "code",
      "execution_count": 6,
      "metadata": {
        "id": "Ek6NaE-SDYJi"
      },
      "outputs": [],
      "source": [
        "## Import the libraries\n",
        "import pandas as pd"
      ]
    },
    {
      "cell_type": "code",
      "source": [
        "from sklearn.preprocessing import OneHotEncoder"
      ],
      "metadata": {
        "id": "F8ZjievvUVKA"
      },
      "execution_count": 1,
      "outputs": []
    },
    {
      "cell_type": "code",
      "source": [
        "data = {'Employee id': [10, 20, 15, 25, 30],\n",
        "        'Gender': ['M', 'F', 'F', 'M', 'F'],\n",
        "        'Remarks': ['Good', 'Nice', 'Good', 'Great', 'Nice'],\n",
        "        }\n",
        "df = pd.DataFrame(data)\n",
        "print(f\"Employee data : \\n{df}\")\n",
        "\n",
        "categorical_columns = df.select_dtypes(include=['object']).columns.tolist()\n",
        "encoder = OneHotEncoder(sparse_output=False)\n",
        "\n",
        "one_hot_encoded = encoder.fit_transform(df[categorical_columns])\n",
        "\n",
        "one_hot_df = pd.DataFrame(one_hot_encoded, columns=encoder.get_feature_names_out(categorical_columns))\n",
        "\n",
        "df_encoded = pd.concat([df, one_hot_df], axis=1)\n",
        "\n",
        "df_encoded = df_encoded.drop(categorical_columns, axis=1)\n",
        "print(f\"Encoded Employee data : \\n{df_encoded}\")"
      ],
      "metadata": {
        "colab": {
          "base_uri": "https://localhost:8080/"
        },
        "id": "RmIDpq8CWqV2",
        "outputId": "37583c00-27c9-4ea3-a6c8-8543b205b9be"
      },
      "execution_count": 14,
      "outputs": [
        {
          "output_type": "stream",
          "name": "stdout",
          "text": [
            "Employee data : \n",
            "   Employee id Gender Remarks\n",
            "0           10      M    Good\n",
            "1           20      F    Nice\n",
            "2           15      F    Good\n",
            "3           25      M   Great\n",
            "4           30      F    Nice\n",
            "Encoded Employee data : \n",
            "   Employee id  Gender_F  Gender_M  Remarks_Good  Remarks_Great  Remarks_Nice\n",
            "0           10       0.0       1.0           1.0            0.0           0.0\n",
            "1           20       1.0       0.0           0.0            0.0           1.0\n",
            "2           15       1.0       0.0           1.0            0.0           0.0\n",
            "3           25       0.0       1.0           0.0            1.0           0.0\n",
            "4           30       1.0       0.0           0.0            0.0           1.0\n"
          ]
        }
      ]
    },
    {
      "cell_type": "markdown",
      "source": [
        "### 2. What Is BoW (Bag of Words)?\n",
        "BoW is a text encoding technique that.....Converts sentences/documents into numeric form.\n",
        "Ignores word order, but counts how many times each word occurs.\n",
        "Builds a vocabulary (set of unique words) from all documents.\n",
        "\n",
        "Creates a document-term matrix where:\n",
        "- Rows = documents (sentences).\n",
        "- Columns = words in vocabulary.\n",
        "- Values = word frequency in that document."
      ],
      "metadata": {
        "id": "XIMiO82UdXTO"
      }
    },
    {
      "cell_type": "code",
      "source": [
        "from sklearn.feature_extraction.text import CountVectorizer"
      ],
      "metadata": {
        "id": "2eBFFuDvZnRi"
      },
      "execution_count": 23,
      "outputs": []
    },
    {
      "cell_type": "code",
      "source": [
        "## Lets Create Dataframe to understand the workflow\n",
        "data = pd.DataFrame({\"text\":[\"people watch youtube\",\"youtube watch youtube\",\"people write comments\",\"youtube write comments\"], \"output\":[1,1,0,0]})\n",
        "data.head()"
      ],
      "metadata": {
        "colab": {
          "base_uri": "https://localhost:8080/",
          "height": 175
        },
        "id": "e_gI9rFMKfP1",
        "outputId": "d82b8d78-27b3-4e70-ab6c-dae2f9a8bada"
      },
      "execution_count": 22,
      "outputs": [
        {
          "output_type": "execute_result",
          "data": {
            "text/plain": [
              "                     text  output\n",
              "0    people watch youtube       1\n",
              "1   youtube watch youtube       1\n",
              "2   people write comments       0\n",
              "3  youtube write comments       0"
            ],
            "text/html": [
              "\n",
              "  <div id=\"df-2b430e95-0515-4480-8f3d-0177fb9d96c2\" class=\"colab-df-container\">\n",
              "    <div>\n",
              "<style scoped>\n",
              "    .dataframe tbody tr th:only-of-type {\n",
              "        vertical-align: middle;\n",
              "    }\n",
              "\n",
              "    .dataframe tbody tr th {\n",
              "        vertical-align: top;\n",
              "    }\n",
              "\n",
              "    .dataframe thead th {\n",
              "        text-align: right;\n",
              "    }\n",
              "</style>\n",
              "<table border=\"1\" class=\"dataframe\">\n",
              "  <thead>\n",
              "    <tr style=\"text-align: right;\">\n",
              "      <th></th>\n",
              "      <th>text</th>\n",
              "      <th>output</th>\n",
              "    </tr>\n",
              "  </thead>\n",
              "  <tbody>\n",
              "    <tr>\n",
              "      <th>0</th>\n",
              "      <td>people watch youtube</td>\n",
              "      <td>1</td>\n",
              "    </tr>\n",
              "    <tr>\n",
              "      <th>1</th>\n",
              "      <td>youtube watch youtube</td>\n",
              "      <td>1</td>\n",
              "    </tr>\n",
              "    <tr>\n",
              "      <th>2</th>\n",
              "      <td>people write comments</td>\n",
              "      <td>0</td>\n",
              "    </tr>\n",
              "    <tr>\n",
              "      <th>3</th>\n",
              "      <td>youtube write comments</td>\n",
              "      <td>0</td>\n",
              "    </tr>\n",
              "  </tbody>\n",
              "</table>\n",
              "</div>\n",
              "    <div class=\"colab-df-buttons\">\n",
              "\n",
              "  <div class=\"colab-df-container\">\n",
              "    <button class=\"colab-df-convert\" onclick=\"convertToInteractive('df-2b430e95-0515-4480-8f3d-0177fb9d96c2')\"\n",
              "            title=\"Convert this dataframe to an interactive table.\"\n",
              "            style=\"display:none;\">\n",
              "\n",
              "  <svg xmlns=\"http://www.w3.org/2000/svg\" height=\"24px\" viewBox=\"0 -960 960 960\">\n",
              "    <path d=\"M120-120v-720h720v720H120Zm60-500h600v-160H180v160Zm220 220h160v-160H400v160Zm0 220h160v-160H400v160ZM180-400h160v-160H180v160Zm440 0h160v-160H620v160ZM180-180h160v-160H180v160Zm440 0h160v-160H620v160Z\"/>\n",
              "  </svg>\n",
              "    </button>\n",
              "\n",
              "  <style>\n",
              "    .colab-df-container {\n",
              "      display:flex;\n",
              "      gap: 12px;\n",
              "    }\n",
              "\n",
              "    .colab-df-convert {\n",
              "      background-color: #E8F0FE;\n",
              "      border: none;\n",
              "      border-radius: 50%;\n",
              "      cursor: pointer;\n",
              "      display: none;\n",
              "      fill: #1967D2;\n",
              "      height: 32px;\n",
              "      padding: 0 0 0 0;\n",
              "      width: 32px;\n",
              "    }\n",
              "\n",
              "    .colab-df-convert:hover {\n",
              "      background-color: #E2EBFA;\n",
              "      box-shadow: 0px 1px 2px rgba(60, 64, 67, 0.3), 0px 1px 3px 1px rgba(60, 64, 67, 0.15);\n",
              "      fill: #174EA6;\n",
              "    }\n",
              "\n",
              "    .colab-df-buttons div {\n",
              "      margin-bottom: 4px;\n",
              "    }\n",
              "\n",
              "    [theme=dark] .colab-df-convert {\n",
              "      background-color: #3B4455;\n",
              "      fill: #D2E3FC;\n",
              "    }\n",
              "\n",
              "    [theme=dark] .colab-df-convert:hover {\n",
              "      background-color: #434B5C;\n",
              "      box-shadow: 0px 1px 3px 1px rgba(0, 0, 0, 0.15);\n",
              "      filter: drop-shadow(0px 1px 2px rgba(0, 0, 0, 0.3));\n",
              "      fill: #FFFFFF;\n",
              "    }\n",
              "  </style>\n",
              "\n",
              "    <script>\n",
              "      const buttonEl =\n",
              "        document.querySelector('#df-2b430e95-0515-4480-8f3d-0177fb9d96c2 button.colab-df-convert');\n",
              "      buttonEl.style.display =\n",
              "        google.colab.kernel.accessAllowed ? 'block' : 'none';\n",
              "\n",
              "      async function convertToInteractive(key) {\n",
              "        const element = document.querySelector('#df-2b430e95-0515-4480-8f3d-0177fb9d96c2');\n",
              "        const dataTable =\n",
              "          await google.colab.kernel.invokeFunction('convertToInteractive',\n",
              "                                                    [key], {});\n",
              "        if (!dataTable) return;\n",
              "\n",
              "        const docLinkHtml = 'Like what you see? Visit the ' +\n",
              "          '<a target=\"_blank\" href=https://colab.research.google.com/notebooks/data_table.ipynb>data table notebook</a>'\n",
              "          + ' to learn more about interactive tables.';\n",
              "        element.innerHTML = '';\n",
              "        dataTable['output_type'] = 'display_data';\n",
              "        await google.colab.output.renderOutput(dataTable, element);\n",
              "        const docLink = document.createElement('div');\n",
              "        docLink.innerHTML = docLinkHtml;\n",
              "        element.appendChild(docLink);\n",
              "      }\n",
              "    </script>\n",
              "  </div>\n",
              "\n",
              "\n",
              "    <div id=\"df-e1df9172-0e8f-4dc5-8f33-1702086d9776\">\n",
              "      <button class=\"colab-df-quickchart\" onclick=\"quickchart('df-e1df9172-0e8f-4dc5-8f33-1702086d9776')\"\n",
              "                title=\"Suggest charts\"\n",
              "                style=\"display:none;\">\n",
              "\n",
              "<svg xmlns=\"http://www.w3.org/2000/svg\" height=\"24px\"viewBox=\"0 0 24 24\"\n",
              "     width=\"24px\">\n",
              "    <g>\n",
              "        <path d=\"M19 3H5c-1.1 0-2 .9-2 2v14c0 1.1.9 2 2 2h14c1.1 0 2-.9 2-2V5c0-1.1-.9-2-2-2zM9 17H7v-7h2v7zm4 0h-2V7h2v10zm4 0h-2v-4h2v4z\"/>\n",
              "    </g>\n",
              "</svg>\n",
              "      </button>\n",
              "\n",
              "<style>\n",
              "  .colab-df-quickchart {\n",
              "      --bg-color: #E8F0FE;\n",
              "      --fill-color: #1967D2;\n",
              "      --hover-bg-color: #E2EBFA;\n",
              "      --hover-fill-color: #174EA6;\n",
              "      --disabled-fill-color: #AAA;\n",
              "      --disabled-bg-color: #DDD;\n",
              "  }\n",
              "\n",
              "  [theme=dark] .colab-df-quickchart {\n",
              "      --bg-color: #3B4455;\n",
              "      --fill-color: #D2E3FC;\n",
              "      --hover-bg-color: #434B5C;\n",
              "      --hover-fill-color: #FFFFFF;\n",
              "      --disabled-bg-color: #3B4455;\n",
              "      --disabled-fill-color: #666;\n",
              "  }\n",
              "\n",
              "  .colab-df-quickchart {\n",
              "    background-color: var(--bg-color);\n",
              "    border: none;\n",
              "    border-radius: 50%;\n",
              "    cursor: pointer;\n",
              "    display: none;\n",
              "    fill: var(--fill-color);\n",
              "    height: 32px;\n",
              "    padding: 0;\n",
              "    width: 32px;\n",
              "  }\n",
              "\n",
              "  .colab-df-quickchart:hover {\n",
              "    background-color: var(--hover-bg-color);\n",
              "    box-shadow: 0 1px 2px rgba(60, 64, 67, 0.3), 0 1px 3px 1px rgba(60, 64, 67, 0.15);\n",
              "    fill: var(--button-hover-fill-color);\n",
              "  }\n",
              "\n",
              "  .colab-df-quickchart-complete:disabled,\n",
              "  .colab-df-quickchart-complete:disabled:hover {\n",
              "    background-color: var(--disabled-bg-color);\n",
              "    fill: var(--disabled-fill-color);\n",
              "    box-shadow: none;\n",
              "  }\n",
              "\n",
              "  .colab-df-spinner {\n",
              "    border: 2px solid var(--fill-color);\n",
              "    border-color: transparent;\n",
              "    border-bottom-color: var(--fill-color);\n",
              "    animation:\n",
              "      spin 1s steps(1) infinite;\n",
              "  }\n",
              "\n",
              "  @keyframes spin {\n",
              "    0% {\n",
              "      border-color: transparent;\n",
              "      border-bottom-color: var(--fill-color);\n",
              "      border-left-color: var(--fill-color);\n",
              "    }\n",
              "    20% {\n",
              "      border-color: transparent;\n",
              "      border-left-color: var(--fill-color);\n",
              "      border-top-color: var(--fill-color);\n",
              "    }\n",
              "    30% {\n",
              "      border-color: transparent;\n",
              "      border-left-color: var(--fill-color);\n",
              "      border-top-color: var(--fill-color);\n",
              "      border-right-color: var(--fill-color);\n",
              "    }\n",
              "    40% {\n",
              "      border-color: transparent;\n",
              "      border-right-color: var(--fill-color);\n",
              "      border-top-color: var(--fill-color);\n",
              "    }\n",
              "    60% {\n",
              "      border-color: transparent;\n",
              "      border-right-color: var(--fill-color);\n",
              "    }\n",
              "    80% {\n",
              "      border-color: transparent;\n",
              "      border-right-color: var(--fill-color);\n",
              "      border-bottom-color: var(--fill-color);\n",
              "    }\n",
              "    90% {\n",
              "      border-color: transparent;\n",
              "      border-bottom-color: var(--fill-color);\n",
              "    }\n",
              "  }\n",
              "</style>\n",
              "\n",
              "      <script>\n",
              "        async function quickchart(key) {\n",
              "          const quickchartButtonEl =\n",
              "            document.querySelector('#' + key + ' button');\n",
              "          quickchartButtonEl.disabled = true;  // To prevent multiple clicks.\n",
              "          quickchartButtonEl.classList.add('colab-df-spinner');\n",
              "          try {\n",
              "            const charts = await google.colab.kernel.invokeFunction(\n",
              "                'suggestCharts', [key], {});\n",
              "          } catch (error) {\n",
              "            console.error('Error during call to suggestCharts:', error);\n",
              "          }\n",
              "          quickchartButtonEl.classList.remove('colab-df-spinner');\n",
              "          quickchartButtonEl.classList.add('colab-df-quickchart-complete');\n",
              "        }\n",
              "        (() => {\n",
              "          let quickchartButtonEl =\n",
              "            document.querySelector('#df-e1df9172-0e8f-4dc5-8f33-1702086d9776 button');\n",
              "          quickchartButtonEl.style.display =\n",
              "            google.colab.kernel.accessAllowed ? 'block' : 'none';\n",
              "        })();\n",
              "      </script>\n",
              "    </div>\n",
              "\n",
              "    </div>\n",
              "  </div>\n"
            ],
            "application/vnd.google.colaboratory.intrinsic+json": {
              "type": "dataframe",
              "variable_name": "data",
              "summary": "{\n  \"name\": \"data\",\n  \"rows\": 4,\n  \"fields\": [\n    {\n      \"column\": \"text\",\n      \"properties\": {\n        \"dtype\": \"string\",\n        \"num_unique_values\": 4,\n        \"samples\": [\n          \"youtube watch youtube\",\n          \"youtube write comments\",\n          \"people watch youtube\"\n        ],\n        \"semantic_type\": \"\",\n        \"description\": \"\"\n      }\n    },\n    {\n      \"column\": \"output\",\n      \"properties\": {\n        \"dtype\": \"number\",\n        \"std\": 0,\n        \"min\": 0,\n        \"max\": 1,\n        \"num_unique_values\": 2,\n        \"samples\": [\n          0,\n          1\n        ],\n        \"semantic_type\": \"\",\n        \"description\": \"\"\n      }\n    }\n  ]\n}"
            }
          },
          "metadata": {},
          "execution_count": 22
        }
      ]
    },
    {
      "cell_type": "code",
      "source": [
        "## Document matrix(Bag of Word)"
      ],
      "metadata": {
        "id": "t58RKXTjYbJ9"
      },
      "execution_count": 18,
      "outputs": []
    },
    {
      "cell_type": "code",
      "source": [
        "## Initialize BoW\n",
        "Bow = CountVectorizer()\n",
        "\n",
        "## Fit and transform the data\n",
        "documnet_matrix = Bow.fit_transform(data[\"text\"])\n",
        "\n",
        "## View Vocabulary\n",
        "print(\"Vocabulary:\", Bow.vocabulary_)\n",
        "\n",
        "## As here we see that our CountVectorizer written code aplhabetically\n",
        "print(\"Sentence 0:\", documnet_matrix[0].toarray())\n",
        "print(\"Sentence 1:\", documnet_matrix[1].toarray())\n",
        "print(\"Sentence 2:\", documnet_matrix[2].toarray())\n",
        "print(\"Sentence 3:\", documnet_matrix[3].toarray())\n"
      ],
      "metadata": {
        "colab": {
          "base_uri": "https://localhost:8080/"
        },
        "id": "11QDWODHbhVY",
        "outputId": "f0d9d9c2-db7f-437a-a38b-da1c780423d5"
      },
      "execution_count": 38,
      "outputs": [
        {
          "output_type": "stream",
          "name": "stdout",
          "text": [
            "Vocabulary: {'people': 1, 'watch': 2, 'youtube': 4, 'write': 3, 'comments': 0}\n",
            "Sentence 0: [[0 1 1 0 1]]\n",
            "Sentence 1: [[0 0 1 0 2]]\n",
            "Sentence 2: [[1 1 0 1 0]]\n",
            "Sentence 3: [[1 0 0 1 1]]\n"
          ]
        }
      ]
    },
    {
      "cell_type": "markdown",
      "source": [
        "📘 What Are Bigrams?\n",
        "\n",
        "A bigram is a sequence of 2 consecutive words in a sentence.\n",
        "Instead of treating single words (like \"youtube\" or \"watch\") as features (like in BoW), bigrams treat pairs of words (like \"youtube watch\") as features.\n",
        "\n",
        "Bigrams help capture word relationships and meaning that single-word features (unigrams) often miss."
      ],
      "metadata": {
        "id": "IMIU0Fc-eOzb"
      }
    },
    {
      "cell_type": "code",
      "source": [
        "from sklearn.feature_extraction.text import CountVectorizer\n",
        "\n",
        "# Initialize the CountVectorizer with ngram_range=(2,2) to capture ONLY bigrams\n",
        "bigram = CountVectorizer(ngram_range=(2, 2))\n",
        "\n",
        "# Fit and transform the text data\n",
        "bigramvoc = bigram.fit_transform(data[\"text\"])\n",
        "\n",
        "# View the vocabulary\n",
        "bigram.vocabulary_\n"
      ],
      "metadata": {
        "id": "0P0c4I65dMMA",
        "colab": {
          "base_uri": "https://localhost:8080/"
        },
        "outputId": "319af327-2fe9-4795-a7d8-4e2e7903ba72"
      },
      "execution_count": 41,
      "outputs": [
        {
          "output_type": "execute_result",
          "data": {
            "text/plain": [
              "{'people watch': 0,\n",
              " 'watch youtube': 2,\n",
              " 'youtube watch': 4,\n",
              " 'people write': 1,\n",
              " 'write comments': 3,\n",
              " 'youtube write': 5}"
            ]
          },
          "metadata": {},
          "execution_count": 41
        }
      ]
    },
    {
      "cell_type": "markdown",
      "source": [
        "In Row 0 (\"people watch youtube\"):\n",
        "\n",
        "- \"people watch\" and \"watch youtube\" appear once.\n",
        "\n",
        "- Others = 0.\n",
        "\n",
        "In Row 1 (\"youtube watch youtube\"):\n",
        "\n",
        "- \"youtube watch\" and \"watch youtube\" appear once.\n",
        "\n",
        "In Row 2 (\"people write comments\"):\n",
        "\n",
        "- \"people write\" and \"write comments\" appear once.\n",
        "\n",
        "\n",
        "\n",
        "Each bigram is assigned a unique index (not alphabetically sorted unless specified).\n",
        "This shows the set of unique bigrams present across all documents.\n",
        "Bigrams capture context and phrase-level meaning.\n"
      ],
      "metadata": {
        "id": "d0yAFmXQhTa6"
      }
    },
    {
      "cell_type": "markdown",
      "source": [
        "📘 What Are Trigrams?\n",
        "\n",
        "A trigram is a sequence of 3 consecutive words in a sentence.\n",
        "This helps capture even richer context than bigrams especially useful when the meaning is shaped by full phrases, not just pairs of words.\n",
        "\n",
        "Trigrams are especially powerful in tasks like text generation, summarization, and predictive modeling where full phrases matter."
      ],
      "metadata": {
        "id": "QvBlnSMiiHd5"
      }
    },
    {
      "cell_type": "code",
      "source": [
        "from sklearn.feature_extraction.text import CountVectorizer\n",
        "\n",
        "# Initialize CountVectorizer with ngram_range=(3,3) for trigrams\n",
        "trigram = CountVectorizer(ngram_range=(3, 3))\n",
        "\n",
        "# Fit and transform the text data\n",
        "trigram_matrix = trigram.fit_transform(data[\"text\"])\n",
        "\n",
        "# View the vocabulary\n",
        "trigram.vocabulary_\n"
      ],
      "metadata": {
        "colab": {
          "base_uri": "https://localhost:8080/"
        },
        "id": "r0m_wodpiR9K",
        "outputId": "24631d8f-1f53-4f5d-e37b-704b2747d539"
      },
      "execution_count": 42,
      "outputs": [
        {
          "output_type": "execute_result",
          "data": {
            "text/plain": [
              "{'people watch youtube': 0,\n",
              " 'youtube watch youtube': 2,\n",
              " 'people write comments': 1,\n",
              " 'youtube write comments': 3}"
            ]
          },
          "metadata": {},
          "execution_count": 42
        }
      ]
    },
    {
      "cell_type": "markdown",
      "source": [
        "In \"people watch youtube\":\n",
        "- The trigram \"people watch youtube\" appears once.\n",
        "\n",
        "In \"youtube watch youtube\":\n",
        "- The trigram \"youtube watch youtube\" appears once.\n",
        "- Others = 0 as they don't appear in those rows."
      ],
      "metadata": {
        "id": "k86gKolfiVKU"
      }
    },
    {
      "cell_type": "code",
      "source": [
        "mix = CountVectorizer(ngram_range=(1,2))"
      ],
      "metadata": {
        "id": "dzaaRIwOd3Xt"
      },
      "execution_count": null,
      "outputs": []
    },
    {
      "cell_type": "code",
      "source": [
        "mixvoc=mix.fit_transform(data[\"text\"])"
      ],
      "metadata": {
        "id": "N4lx3OZYeA9q"
      },
      "execution_count": null,
      "outputs": []
    },
    {
      "cell_type": "code",
      "source": [
        "mix.vocabulary_"
      ],
      "metadata": {
        "colab": {
          "base_uri": "https://localhost:8080/"
        },
        "id": "MggHu0_EeF3m",
        "outputId": "e983eaa3-c1c8-468c-829b-9c76f2937dd0"
      },
      "execution_count": null,
      "outputs": [
        {
          "output_type": "execute_result",
          "data": {
            "text/plain": [
              "{'people': 1,\n",
              " 'watch': 4,\n",
              " 'youtube': 8,\n",
              " 'people watch': 2,\n",
              " 'watch youtube': 5,\n",
              " 'youtube watch': 9,\n",
              " 'write': 6,\n",
              " 'comments': 0,\n",
              " 'people write': 3,\n",
              " 'write comments': 7,\n",
              " 'youtube write': 10}"
            ]
          },
          "metadata": {},
          "execution_count": 24
        }
      ]
    },
    {
      "cell_type": "markdown",
      "source": [
        "📘 What Is TF-IDF?\n",
        "\n",
        "- TF-IDF stands for Term Frequency–Inverse Document Frequency.\n",
        "- It’s a statistical method used to measure how important a word is in a document relative to a collection of documents (corpus).\n",
        "- It goes beyond just counting how often a word appears (like Bag of Words) it also considers how rare or common that word is across all documents.\n",
        "\n",
        "Why Use TF-IDF Instead of CountVectorizer?\n",
        "- CountVectorizer only counts word occurrences — common words like \"the\", \"is\", \"watch\" get high weight even if they’re not meaningful.\n",
        "\n",
        "TF-IDF balances this by:\n",
        "- Giving high scores to words that appear frequently in one document but rarely in others\n",
        "- Giving low scores to common words across all documents\n",
        "\n",
        "This makes it perfect for tasks like:\n",
        "- Search engines\n",
        "- Keyword extraction\n",
        "- Text classification\n",
        "\n",
        "🔍 TF-IDF Formula\n",
        "1. TF (Term Frequency):\n",
        "\n",
        "How often a word appears in a document\n",
        "TF(w) = (Number of times word w appears) / (Total words in document)\n",
        "\n",
        "2. IDF (Inverse Document Frequency):\n",
        "\n",
        "How unique the word is across all documents\n",
        "- IDF(w) = log_e(Total number of documents / Number of documents containing w)\n",
        "\n",
        "- TF-IDF = TF × IDF"
      ],
      "metadata": {
        "id": "CTtOpywsjSRD"
      }
    },
    {
      "cell_type": "code",
      "source": [
        "from sklearn.feature_extraction.text import TfidfVectorizer"
      ],
      "metadata": {
        "id": "bh4yCQkAemTI"
      },
      "execution_count": null,
      "outputs": []
    },
    {
      "cell_type": "code",
      "source": [
        "Tfidf = TfidfVectorizer()"
      ],
      "metadata": {
        "id": "fYEdwZorenpO"
      },
      "execution_count": null,
      "outputs": []
    },
    {
      "cell_type": "code",
      "source": [
        "Tfidf.fit_transform(data[\"text\"]).toarray()"
      ],
      "metadata": {
        "colab": {
          "base_uri": "https://localhost:8080/"
        },
        "id": "NsHfMM9oex8F",
        "outputId": "4546461c-ca2a-4422-e832-016e3ebbba9a"
      },
      "execution_count": null,
      "outputs": [
        {
          "output_type": "execute_result",
          "data": {
            "text/plain": [
              "array([[0.        , 0.61366674, 0.61366674, 0.        , 0.49681612],\n",
              "       [0.        , 0.        , 0.52546357, 0.        , 0.8508161 ],\n",
              "       [0.57735027, 0.57735027, 0.        , 0.57735027, 0.        ],\n",
              "       [0.61366674, 0.        , 0.        , 0.61366674, 0.49681612]])"
            ]
          },
          "metadata": {},
          "execution_count": 27
        }
      ]
    },
    {
      "cell_type": "code",
      "source": [
        "Tfidf.get_feature_names_out()"
      ],
      "metadata": {
        "colab": {
          "base_uri": "https://localhost:8080/"
        },
        "id": "JkctwA9rfCoG",
        "outputId": "1897779c-b018-4d83-cd8a-a8965cb8850f"
      },
      "execution_count": null,
      "outputs": [
        {
          "output_type": "execute_result",
          "data": {
            "text/plain": [
              "array(['comments', 'people', 'watch', 'write', 'youtube'], dtype=object)"
            ]
          },
          "metadata": {},
          "execution_count": 29
        }
      ]
    },
    {
      "cell_type": "code",
      "source": [
        "Tfidf.idf_"
      ],
      "metadata": {
        "colab": {
          "base_uri": "https://localhost:8080/"
        },
        "id": "VhHNSwJdfHDj",
        "outputId": "5adf85ac-a9d0-4e9e-d8a4-38beff9cf3bb"
      },
      "execution_count": null,
      "outputs": [
        {
          "output_type": "execute_result",
          "data": {
            "text/plain": [
              "array([1.51082562, 1.51082562, 1.51082562, 1.51082562, 1.22314355])"
            ]
          },
          "metadata": {},
          "execution_count": 30
        }
      ]
    },
    {
      "cell_type": "code",
      "source": [],
      "metadata": {
        "id": "uLFxqCGBfLl2"
      },
      "execution_count": null,
      "outputs": []
    }
  ]
}